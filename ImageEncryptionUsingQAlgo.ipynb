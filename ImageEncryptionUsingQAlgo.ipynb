{
  "nbformat": 4,
  "nbformat_minor": 0,
  "metadata": {
    "colab": {
      "name": "Untitled3.ipynb",
      "provenance": [],
      "authorship_tag": "ABX9TyMSuTCKQalzmjxNdrZZVJMU",
      "include_colab_link": true
    },
    "kernelspec": {
      "name": "python3",
      "display_name": "Python 3"
    }
  },
  "cells": [
    {
      "cell_type": "markdown",
      "metadata": {
        "id": "view-in-github",
        "colab_type": "text"
      },
      "source": [
        "<a href=\"https://colab.research.google.com/github/PratyushAdhi/QC/blob/master/ImageEncryptionUsingQAlgo.ipynb\" target=\"_parent\"><img src=\"https://colab.research.google.com/assets/colab-badge.svg\" alt=\"Open In Colab\"/></a>"
      ]
    },
    {
      "cell_type": "code",
      "metadata": {
        "id": "8aDF9xQSfEJ5",
        "colab_type": "code",
        "colab": {}
      },
      "source": [
        "from PIL import Image\n",
        "import numpy as np\n",
        "from matplotlib import image\n",
        "import pandas as pd\n",
        "import cv2"
      ],
      "execution_count": null,
      "outputs": []
    },
    {
      "cell_type": "code",
      "metadata": {
        "id": "8d7zQldRfG-7",
        "colab_type": "code",
        "colab": {}
      },
      "source": [
        "from google.colab import files\n",
        "data_to_load = files.upload()"
      ],
      "execution_count": null,
      "outputs": []
    },
    {
      "cell_type": "code",
      "metadata": {
        "id": "L2cPpOvmfWby",
        "colab_type": "code",
        "colab": {}
      },
      "source": [
        "an_image = PIL.Image.open(\"#nameoffilehere\")\n",
        "image_sequence = an_image.getdata() #original image data matrix\n",
        "image_array = np.array(image_sequence)\n",
        "image_array.shape"
      ],
      "execution_count": null,
      "outputs": []
    },
    {
      "cell_type": "code",
      "metadata": {
        "id": "NPyr5wTCfcHL",
        "colab_type": "code",
        "colab": {}
      },
      "source": [
        "from google.colab import files\n",
        "data_to_load = files.upload()"
      ],
      "execution_count": null,
      "outputs": []
    },
    {
      "cell_type": "code",
      "metadata": {
        "id": "TA4n7GOUfgvr",
        "colab_type": "code",
        "colab": {}
      },
      "source": [
        "import io\n",
        "data = pd.read_csv(io.BytesIO(data_to_load['sbox.csv']))"
      ],
      "execution_count": null,
      "outputs": []
    },
    {
      "cell_type": "code",
      "metadata": {
        "id": "Ynoz6CmUfiRe",
        "colab_type": "code",
        "colab": {}
      },
      "source": [
        "s_list = []\n",
        "for col in data.columns:\n",
        "  temp = []\n",
        "  index = 0\n",
        "  while(index < len(data[col])):\n",
        "    temp_2 = np.binary_repr(data[col][index]%256, width = 9)\n",
        "    temp.append(temp_2)\n",
        "    index +=1\n",
        "  s_list.append(temp)"
      ],
      "execution_count": null,
      "outputs": []
    },
    {
      "cell_type": "code",
      "metadata": {
        "id": "UrlNm9ezfllO",
        "colab_type": "code",
        "colab": {}
      },
      "source": [
        "col1 = [np.binary_repr(i,9) for i in image_array[:,0]]\n",
        "col2 = [np.binary_repr(i,9) for i in image_array[:,1]]\n",
        "col3 = [np.binary_repr(i,9) for i in image_array[:,2]]"
      ],
      "execution_count": null,
      "outputs": []
    },
    {
      "cell_type": "code",
      "metadata": {
        "id": "ISor44Lefo7e",
        "colab_type": "code",
        "colab": {}
      },
      "source": [
        "def flatten(list_of_list, flat = []):\n",
        "  for item in list_of_list:\n",
        "    if type(item) == list:\n",
        "      flatten(item, flat)\n",
        "    else:\n",
        "      flat.append(item)\n",
        "  return flat"
      ],
      "execution_count": null,
      "outputs": []
    },
    {
      "cell_type": "code",
      "metadata": {
        "id": "5fxcrxpIfsjz",
        "colab_type": "code",
        "colab": {}
      },
      "source": [
        "def perform_cnot(list1, list2):\n",
        "    res = []\n",
        "    size = len(list1)\n",
        "    index = 0\n",
        "    while index < len(list2):\n",
        "        item1 = list1[index%size]\n",
        "        item2 = list2[index]\n",
        "        for j in range(len(item1)):\n",
        "            result = cnot(item1, item2)\n",
        "        res.append(result)\n",
        "        index += 1\n",
        "    return res\n",
        "    \n",
        "def cnot(item1, item2):\n",
        "    index = 0\n",
        "    return_str = ''\n",
        "    while(index < len(item1)):\n",
        "        if item1[index] == '0':\n",
        "            return_str += item2[index]\n",
        "            index += 1\n",
        "        else:\n",
        "             return_str += str(int(not(bool(int(item2[index])))))\n",
        "             index += 1\n",
        "    return return_str"
      ],
      "execution_count": null,
      "outputs": []
    },
    {
      "cell_type": "code",
      "metadata": {
        "id": "5psBVnbWfuq1",
        "colab_type": "code",
        "colab": {}
      },
      "source": [
        "flat = flatten(s_list)"
      ],
      "execution_count": null,
      "outputs": []
    },
    {
      "cell_type": "code",
      "metadata": {
        "id": "Ni3WKt9vfwT3",
        "colab_type": "code",
        "colab": {}
      },
      "source": [
        "t1 = perform_cnot(flat, col1)\n",
        "t2 = perform_cnot(flat, col2)\n",
        "t3 = perform_cnot(flat, col3)"
      ],
      "execution_count": null,
      "outputs": []
    },
    {
      "cell_type": "code",
      "metadata": {
        "id": "_tYLZcH3fzV1",
        "colab_type": "code",
        "colab": {}
      },
      "source": [
        "with open('red.txt','w') as file:\n",
        "    for item in t1:\n",
        "        file.write(item + '\\n')"
      ],
      "execution_count": null,
      "outputs": []
    },
    {
      "cell_type": "code",
      "metadata": {
        "id": "XC80_fa_f2bg",
        "colab_type": "code",
        "colab": {}
      },
      "source": [
        "with open('green.txt', 'w') as file:\n",
        "    for item in t2:\n",
        "        file.write(item + '\\n')"
      ],
      "execution_count": null,
      "outputs": []
    },
    {
      "cell_type": "code",
      "metadata": {
        "id": "rBVLBgRXf4cs",
        "colab_type": "code",
        "colab": {}
      },
      "source": [
        "with open('blue.txt', 'w') as file:\n",
        "    for item in t3:\n",
        "        file.write(item + '\\n')"
      ],
      "execution_count": null,
      "outputs": []
    },
    {
      "cell_type": "code",
      "metadata": {
        "id": "OTYM0mBgf5-E",
        "colab_type": "code",
        "colab": {}
      },
      "source": [
        "enc_col1 = [int(i,2) for i in t1]\n",
        "enc_col2 = [int(i,2) for i in t2]\n",
        "enc_col3 = [int(i,2) for i in t3]"
      ],
      "execution_count": null,
      "outputs": []
    },
    {
      "cell_type": "code",
      "metadata": {
        "id": "jC5Ncqe3f71N",
        "colab_type": "code",
        "colab": {}
      },
      "source": [
        "enc = [enc_col1, enc_col2, enc_col3]\n",
        "enc = np.array(enc)\n",
        "sample = np.transpose(enc) #encrypted image data matrix"
      ],
      "execution_count": null,
      "outputs": []
    },
    {
      "cell_type": "code",
      "metadata": {
        "id": "dzmfa7KRf9UU",
        "colab_type": "code",
        "colab": {}
      },
      "source": [
        "#de-encryption\n",
        "decol1 = [np.binary_repr(i,9) for i in sample[:,0]]\n",
        "decol2 = [np.binary_repr(i,9) for i in sample[:,1]]\n",
        "decol3 = [np.binary_repr(i,9) for i in sample[:,2]]"
      ],
      "execution_count": null,
      "outputs": []
    },
    {
      "cell_type": "code",
      "metadata": {
        "id": "yZhQEHVEgLYr",
        "colab_type": "code",
        "colab": {}
      },
      "source": [
        "d1 = perform_cnot(flat, decol1)\n",
        "d2 = perform_cnot(flat, decol2)\n",
        "d3 = perform_cnot(flat, decol3)"
      ],
      "execution_count": null,
      "outputs": []
    },
    {
      "cell_type": "code",
      "metadata": {
        "id": "AGcO_-4FgMpc",
        "colab_type": "code",
        "colab": {}
      },
      "source": [
        "denc_col1 = [int(i,2) for i in d1]\n",
        "denc_col2 = [int(i,2) for i in d2]\n",
        "denc_col3 = [int(i,2) for i in d3]"
      ],
      "execution_count": null,
      "outputs": []
    },
    {
      "cell_type": "code",
      "metadata": {
        "id": "8_-dhU2fgOAS",
        "colab_type": "code",
        "colab": {}
      },
      "source": [
        "denc = [denc_col1, denc_col2, denc_col3]\n",
        "denc = np.array(denc)\n",
        "dsample = np.transpose(denc) #de-crypted image"
      ],
      "execution_count": null,
      "outputs": []
    },
    {
      "cell_type": "code",
      "metadata": {
        "id": "xsITnSZ2gPnL",
        "colab_type": "code",
        "colab": {}
      },
      "source": [
        "def checking_function(array1, array2):\n",
        "    array = []\n",
        "    flag = True\n",
        "    for index1 in range(len(array1)):\n",
        "        for index2 in range(len(array1[index1])):\n",
        "            if (array1[index1][index2] != array1[index1][index2]):\n",
        "                array.append((index1, index2))\n",
        "            else:\n",
        "                continue\n",
        "    if (len(array)):\n",
        "        flag = False\n",
        "    return flag, array\n",
        "                \n",
        "            \n",
        "    \n",
        "    "
      ],
      "execution_count": 1,
      "outputs": []
    },
    {
      "cell_type": "code",
      "metadata": {
        "id": "BjgHN-93gRgr",
        "colab_type": "code",
        "colab": {}
      },
      "source": [
        "checking_function(image_array, dsample) #checks if decrypted image matrix and original image matrix are same"
      ],
      "execution_count": null,
      "outputs": []
    }
  ]
}